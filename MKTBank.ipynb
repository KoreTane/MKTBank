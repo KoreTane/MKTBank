{
  "cells": [
    {
      "cell_type": "markdown",
      "metadata": {
        "id": "view-in-github",
        "colab_type": "text"
      },
      "source": [
        "<a href=\"https://colab.research.google.com/github/KoreTane/MKTBank/blob/main/MKTBank.ipynb\" target=\"_parent\"><img src=\"https://colab.research.google.com/assets/colab-badge.svg\" alt=\"Open In Colab\"/></a>"
      ]
    },
    {
      "cell_type": "code",
      "execution_count": null,
      "metadata": {
        "colab": {
          "base_uri": "https://localhost:8080/"
        },
        "id": "SCglWYU3Vj99",
        "outputId": "0a903135-11af-4324-bc37-65c273b18d0d"
      },
      "outputs": [
        {
          "output_type": "stream",
          "name": "stdout",
          "text": [
            "Requirement already satisfied: pyspark in /usr/local/lib/python3.10/dist-packages (3.5.3)\n",
            "Requirement already satisfied: py4j==0.10.9.7 in /usr/local/lib/python3.10/dist-packages (from pyspark) (0.10.9.7)\n"
          ]
        }
      ],
      "source": [
        "!pip install pyspark\n"
      ]
    },
    {
      "cell_type": "markdown",
      "metadata": {
        "id": "ojiIJqIo3CCQ"
      },
      "source": [
        "# Exploratory Analysis\n",
        "\n",
        "\n"
      ]
    },
    {
      "cell_type": "code",
      "execution_count": null,
      "metadata": {
        "id": "g5BLTvohLRkN"
      },
      "outputs": [],
      "source": [
        "from pyspark.sql import SparkSession\n",
        "from pyspark.sql.functions import monotonically_increasing_id\n",
        "from pyspark.sql.functions import col, count, when\n",
        "from pyspark.sql import functions as F\n",
        "from pyspark.ml import Pipeline\n",
        "from pyspark.ml.feature import StringIndexer\n",
        "import matplotlib.pyplot as plt\n",
        "import seaborn as sns\n",
        "\n",
        "spark = SparkSession.builder.appName(\"BankMarketing\").getOrCreate()\n",
        "df = spark.read.csv(\"bank.csv\", header=True, inferSchema=True)\n",
        "# Criar um ID único para cada cliente\n",
        "df = df.withColumn(\"client_id\", monotonically_increasing_id())\n",
        "\n",
        "colunas = ['client_id'] + [col for col in df.columns if col != 'client_id']\n",
        "df = df.select(colunas)\n",
        "\n",
        "df.show(50)\n",
        "\n",
        "df.printSchema()\n",
        "\n",
        "df.summary().show()"
      ]
    },
    {
      "cell_type": "code",
      "execution_count": null,
      "metadata": {
        "id": "TthsOV5i2FXV"
      },
      "outputs": [],
      "source": [
        "# Criar um ID único para cada cliente\n",
        "df = df.withColumn(\"client_id\", monotonically_increasing_id())\n",
        "\n",
        "df.show(5)\n"
      ]
    },
    {
      "cell_type": "code",
      "execution_count": null,
      "metadata": {
        "id": "CuYdj41y_xMB"
      },
      "outputs": [],
      "source": [
        "total_count = df.count()\n",
        "\n",
        "distinct_count = df.distinct().count()\n",
        "\n",
        "# Verificar se há duplicatas\n",
        "if total_count > distinct_count:\n",
        "    print(\"Existem dados duplicados no DataFrame.\")\n",
        "else:\n",
        "    print(\"Não existem dados duplicados no DataFrame.\")"
      ]
    },
    {
      "cell_type": "code",
      "execution_count": null,
      "metadata": {
        "id": "JB7oY6SW_yoW"
      },
      "outputs": [],
      "source": [
        "# Análises Simples\n",
        "# 1. age: Contar quantas IDs têm mais de 80 anos\n",
        "age_above_80 = df.filter(df.age > 80).count()\n",
        "\n",
        "# 2. Contando IDs agrupados por job e calculando a média do balance\n",
        "job_count = df.groupBy(\"job\") \\\n",
        "               .agg(\n",
        "                   F.count(\"*\").alias(\"count\"),  # Contagem de IDs\n",
        "                   F.format_number(F.avg(\"balance\"), 2).alias(\"average_balance\")  # Média do balance formatada\n",
        "               ) \\\n",
        "               .sort(F.col(\"count\").desc())\n",
        "\n",
        "# 3. marital: Contar IDs agrupados por estado civil\n",
        "marital_count = df.groupBy(\"marital\").count().sort(col(\"count\").desc())\n",
        "\n",
        "# 4. Contando IDs agrupados por nível de escolaridade e calculando a média do balance\n",
        "education_count = df.groupBy(\"education\") \\\n",
        "                     .agg(\n",
        "                         F.count(\"*\").alias(\"count\"),  # Contagem de IDs\n",
        "                         F.format_number(F.avg(\"balance\"), 2).alias(\"average_balance\")  # Média do balance formatada\n",
        "                     ) \\\n",
        "                     .sort(F.col(\"count\").desc())\n",
        "\n",
        "# 5. default: Contar IDs com e sem crédito em atraso\n",
        "default_count = df.groupBy(\"default\").count().sort(col(\"count\").desc())\n",
        "\n",
        "# 6. balance: Contar quantas IDs estão com balance negativo e positivo\n",
        "balance_count = df.groupBy(F.when(df.balance < 0, \"Negativo\").otherwise(\"Positivo\").alias(\"Balance\")).count()\n",
        "\n",
        "# 7. housing: Contar quantos IDs possuem housing e quantos não\n",
        "housing_count = df.groupBy(\"housing\").count().sort(col(\"count\").desc())\n",
        "\n",
        "# 8. loan: Contar quantos IDs possuem loan e quantos não\n",
        "loan_count = df.groupBy(\"loan\").count().sort(col(\"count\").desc())\n",
        "\n",
        "# 9. contact: Contagem do número de IDs agrupada por contact\n",
        "contact_count = df.groupBy(\"contact\").count().sort(col(\"count\").desc())\n",
        "\n",
        "# 10. day: Contar a distribuição de contatos por dia do mês\n",
        "day_count = df.groupBy(\"day\").count().sort(col(\"count\").desc())\n",
        "\n",
        "# 11. month: Contar a distribuição de contatos por mês\n",
        "month_count = df.groupBy(\"month\").count().sort(col(\"count\").desc())\n",
        "\n",
        "# 12. duration: Contar quantas IDs têm duração de contato acima e abaixo da média\n",
        "average_duration = df.select(F.avg(\"duration\")).first()[0]\n",
        "duration_count = df.groupBy(F.when(df.duration < average_duration, \"Abaixo da Média\").otherwise(\"Acima da Média\").alias(\"Duração\")).count().sort(col(\"count\").desc())\n",
        "\n",
        "# 13. campaign: Distribuição de contatos feitos durante a campanha\n",
        "campaign_count = df.groupBy(\"campaign\").count().sort(col(\"count\").desc())\n",
        "\n",
        "# 14. pdays: Distribuição do número de dias desde o último contato (999 significa que nunca foi contatado)\n",
        "pdays_count = df.groupBy(F.when(df.pdays == 999, \"Nunca contatado\").otherwise(df.pdays)).count().sort(col(\"count\").desc())\n",
        "\n",
        "# 15. previous: Distribuição do número de contatos anteriores\n",
        "previous_count = df.groupBy(\"previous\").count().sort(col(\"count\").desc())\n",
        "\n",
        "# 16. poutcome: Contar resultados da campanha anterior\n",
        "poutcome_count = df.groupBy(\"poutcome\").count().sort(col(\"count\").desc())\n",
        "\n",
        "# 17. deposit: Contagem de aceitação da oferta (sim/não)\n",
        "deposit_count = df.groupBy(\"deposit\").count()\n",
        "\n",
        "# Exibindo os resultados em uma matriz\n",
        "\n",
        "print(\"Análise Completa de Clientes:\")\n",
        "\n",
        "print(f\"\\n1. IDs com mais de 80 anos: {age_above_80}\")\n",
        "\n",
        "print(\"\\n2. Contagem de IDs agrupados por Job:\")\n",
        "job_count.show()\n",
        "\n",
        "print(\"\\n3. Contagem de IDs agrupados por Estado Civil:\")\n",
        "marital_count.show()\n",
        "\n",
        "print(\"\\n4. Contagem de IDs agrupados por Nível de Escolaridade:\")\n",
        "education_count.show()\n",
        "\n",
        "print(\"\\n5. Contagem de IDs com e sem Crédito em Atraso:\")\n",
        "default_count.show()\n",
        "\n",
        "print(\"\\n6. Contagem de IDs com Balance Negativo e Positivo:\")\n",
        "balance_count.show()\n",
        "\n",
        "print(\"\\n7. Contagem de IDs com Housing:\")\n",
        "housing_count.show()\n",
        "\n",
        "print(\"\\n8. Contagem de IDs com Loan:\")\n",
        "loan_count.show()\n",
        "\n",
        "print(\"\\n9. Contagem de IDs agrupados por Contact:\")\n",
        "contact_count.show()\n",
        "\n",
        "print(\"\\n10. Distribuição de contatos por Dia do Mês:\")\n",
        "day_count.show()\n",
        "\n",
        "print(\"\\n11. Distribuição de contatos por Mês:\")\n",
        "month_count.show()\n",
        "\n",
        "print(\"\\n12. A média é: 371 segundos. Duração do contato (Abaixo/Acima da Média):\")\n",
        "duration_count.show()\n",
        "\n",
        "print(\"\\n13. Distribuição de contatos feitos durante a Campanha:\")\n",
        "campaign_count.show()\n",
        "\n",
        "print(\"\\n14. Distribuição do Número de Dias desde o Último Contato:\")\n",
        "pdays_count.show()\n",
        "\n",
        "print(\"\\n15. Distribuição do Número de Contatos Anteriores:\")\n",
        "previous_count.show()\n",
        "\n",
        "print(\"\\n16. Resultados da Campanha Anterior:\")\n",
        "poutcome_count.show()\n",
        "\n",
        "print(\"\\n17. Aceitação da Oferta (Sim/Não):\")\n",
        "deposit_count.show()"
      ]
    },
    {
      "cell_type": "code",
      "execution_count": null,
      "metadata": {
        "id": "Jz-CKbPe-h7o"
      },
      "outputs": [],
      "source": [
        "# Excluir as linhas onde age > 80 ou balance > 10000\n",
        "df = df.filter(\n",
        "    (df.age <= 80) &\n",
        "    (df.balance <= 10000) &\n",
        "    (df.balance >= -2000) &\n",
        "    (df.job != \"unknown\") &\n",
        "    (df.education != \"unknown\")\n",
        ")\n",
        "\n",
        "# Substituir \"unknown\" por \"não informado\" nas colunas contact e poutcome\n",
        "df = df.withColumn(\"contact\", F.when(df.contact == \"unknown\", \"não informado\").otherwise(df.contact)) \\\n",
        "       .withColumn(\"poutcome\", F.when(df.poutcome == \"unknown\", \"não informado\").otherwise(df.poutcome))\n",
        "\n",
        "# Exibir o DataFrame resultante\n",
        "df.show()\n"
      ]
    },
    {
      "cell_type": "code",
      "source": [
        "df.summary().show()"
      ],
      "metadata": {
        "id": "L13cHeL5kmdS"
      },
      "execution_count": null,
      "outputs": []
    },
    {
      "cell_type": "code",
      "source": [
        "# Variáveis categóricas a serem transformadas\n",
        "categorical_cols = ['job', 'marital', 'education', 'default', 'month', 'deposit']\n",
        "\n",
        "# Criar indexadores para cada variável categórica\n",
        "indexers = [StringIndexer(inputCol=col, outputCol=col+\"_index\") for col in categorical_cols]\n",
        "\n",
        "# Criar pipeline para aplicar as transformações\n",
        "pipeline = Pipeline(stages=indexers)\n",
        "df_indexed = pipeline.fit(df).transform(df)\n",
        "\n",
        "# Selecionar variáveis numéricas e indexadas para correlação\n",
        "numeric_cols = ['age', 'day', 'duration', 'campaign'] + [col+\"_index\" for col in categorical_cols]\n",
        "df_numeric = df_indexed.select(numeric_cols)\n",
        "\n",
        "# Convertendo para Pandas para calcular a correlação\n",
        "df_pandas = df_numeric.toPandas()\n",
        "\n",
        "# Calculando a matriz de correlação\n",
        "correlation_matrix = df_pandas.corr()\n",
        "\n",
        "# Criando a matriz de correlação colorida\n",
        "plt.figure(figsize=(10, 8))\n",
        "sns.heatmap(correlation_matrix, annot=True, cmap='coolwarm', fmt=\".2f\")\n",
        "plt.title('Matriz de Correlação')\n",
        "plt.show()\n"
      ],
      "metadata": {
        "id": "40-_fyiolWF_"
      },
      "execution_count": null,
      "outputs": []
    },
    {
      "cell_type": "code",
      "source": [
        "# Convertendo para Pandas para calcular a correlação\n",
        "df_pandas = df_numeric.toPandas()\n",
        "\n",
        "# Calculando a matriz de correlação\n",
        "correlation_matrix = df_pandas.corr()\n",
        "\n",
        "# Criando a matriz de correlação colorida\n",
        "plt.figure(figsize=(10, 8))\n",
        "sns.heatmap(correlation_matrix, annot=True, cmap='coolwarm', fmt=\".2f\")\n",
        "plt.title('Matriz de Correlação')\n",
        "plt.show()"
      ],
      "metadata": {
        "id": "iJzuTSjInVTT"
      },
      "execution_count": null,
      "outputs": []
    }
  ],
  "metadata": {
    "colab": {
      "provenance": [],
      "authorship_tag": "ABX9TyN7GhucfDCcFmLt0DKW8wg5",
      "include_colab_link": true
    },
    "kernelspec": {
      "display_name": "Python 3",
      "name": "python3"
    },
    "language_info": {
      "name": "python"
    }
  },
  "nbformat": 4,
  "nbformat_minor": 0
}