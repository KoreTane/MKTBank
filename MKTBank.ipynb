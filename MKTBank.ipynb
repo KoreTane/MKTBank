{
  "nbformat": 4,
  "nbformat_minor": 0,
  "metadata": {
    "colab": {
      "provenance": [],
      "authorship_tag": "ABX9TyP04rcRanT1INZtt+4+93R7",
      "include_colab_link": true
    },
    "kernelspec": {
      "name": "python3",
      "display_name": "Python 3"
    },
    "language_info": {
      "name": "python"
    }
  },
  "cells": [
    {
      "cell_type": "markdown",
      "metadata": {
        "id": "view-in-github",
        "colab_type": "text"
      },
      "source": [
        "<a href=\"https://colab.research.google.com/github/KoreTane/MKTBank/blob/main/MKTBank.ipynb\" target=\"_parent\"><img src=\"https://colab.research.google.com/assets/colab-badge.svg\" alt=\"Open In Colab\"/></a>"
      ]
    },
    {
      "cell_type": "code",
      "source": [
        "#!pip install pyspark"
      ],
      "metadata": {
        "colab": {
          "base_uri": "https://localhost:8080/"
        },
        "id": "SCglWYU3Vj99",
        "outputId": "e77f1519-b9da-4a08-8b25-943501d76a0e"
      },
      "execution_count": 1,
      "outputs": [
        {
          "output_type": "stream",
          "name": "stdout",
          "text": [
            "Collecting pyspark\n",
            "  Downloading pyspark-3.5.3.tar.gz (317.3 MB)\n",
            "\u001b[2K     \u001b[90m━━━━━━━━━━━━━━━━━━━━━━━━━━━━━━━━━━━━━━━━\u001b[0m \u001b[32m317.3/317.3 MB\u001b[0m \u001b[31m4.8 MB/s\u001b[0m eta \u001b[36m0:00:00\u001b[0m\n",
            "\u001b[?25h  Preparing metadata (setup.py) ... \u001b[?25l\u001b[?25hdone\n",
            "Requirement already satisfied: py4j==0.10.9.7 in /usr/local/lib/python3.10/dist-packages (from pyspark) (0.10.9.7)\n",
            "Building wheels for collected packages: pyspark\n",
            "  Building wheel for pyspark (setup.py) ... \u001b[?25l\u001b[?25hdone\n",
            "  Created wheel for pyspark: filename=pyspark-3.5.3-py2.py3-none-any.whl size=317840625 sha256=fa760509d38235a407ee1c4e29ade19d4a0cb58c120cbec5f41fd73efd50f54e\n",
            "  Stored in directory: /root/.cache/pip/wheels/1b/3a/92/28b93e2fbfdbb07509ca4d6f50c5e407f48dce4ddbda69a4ab\n",
            "Successfully built pyspark\n",
            "Installing collected packages: pyspark\n",
            "Successfully installed pyspark-3.5.3\n"
          ]
        }
      ]
    },
    {
      "cell_type": "code",
      "execution_count": 2,
      "metadata": {
        "colab": {
          "base_uri": "https://localhost:8080/"
        },
        "id": "g5BLTvohLRkN",
        "outputId": "ab437ee9-3780-43c4-93c8-5e97862f27b5"
      },
      "outputs": [
        {
          "output_type": "stream",
          "name": "stdout",
          "text": [
            "+---+------------+--------+---------+-------+-------+-------+----+-------+---+-----+--------+--------+-----+--------+--------+-------+\n",
            "|age|         job| marital|education|default|balance|housing|loan|contact|day|month|duration|campaign|pdays|previous|poutcome|deposit|\n",
            "+---+------------+--------+---------+-------+-------+-------+----+-------+---+-----+--------+--------+-----+--------+--------+-------+\n",
            "| 59|      admin.| married|secondary|     no|   2343|    yes|  no|unknown|  5|  may|    1042|       1|   -1|       0| unknown|    yes|\n",
            "| 56|      admin.| married|secondary|     no|     45|     no|  no|unknown|  5|  may|    1467|       1|   -1|       0| unknown|    yes|\n",
            "| 41|  technician| married|secondary|     no|   1270|    yes|  no|unknown|  5|  may|    1389|       1|   -1|       0| unknown|    yes|\n",
            "| 55|    services| married|secondary|     no|   2476|    yes|  no|unknown|  5|  may|     579|       1|   -1|       0| unknown|    yes|\n",
            "| 54|      admin.| married| tertiary|     no|    184|     no|  no|unknown|  5|  may|     673|       2|   -1|       0| unknown|    yes|\n",
            "| 42|  management|  single| tertiary|     no|      0|    yes| yes|unknown|  5|  may|     562|       2|   -1|       0| unknown|    yes|\n",
            "| 56|  management| married| tertiary|     no|    830|    yes| yes|unknown|  6|  may|    1201|       1|   -1|       0| unknown|    yes|\n",
            "| 60|     retired|divorced|secondary|     no|    545|    yes|  no|unknown|  6|  may|    1030|       1|   -1|       0| unknown|    yes|\n",
            "| 37|  technician| married|secondary|     no|      1|    yes|  no|unknown|  6|  may|     608|       1|   -1|       0| unknown|    yes|\n",
            "| 28|    services|  single|secondary|     no|   5090|    yes|  no|unknown|  6|  may|    1297|       3|   -1|       0| unknown|    yes|\n",
            "| 38|      admin.|  single|secondary|     no|    100|    yes|  no|unknown|  7|  may|     786|       1|   -1|       0| unknown|    yes|\n",
            "| 30| blue-collar| married|secondary|     no|    309|    yes|  no|unknown|  7|  may|    1574|       2|   -1|       0| unknown|    yes|\n",
            "| 29|  management| married| tertiary|     no|    199|    yes| yes|unknown|  7|  may|    1689|       4|   -1|       0| unknown|    yes|\n",
            "| 46| blue-collar|  single| tertiary|     no|    460|    yes|  no|unknown|  7|  may|    1102|       2|   -1|       0| unknown|    yes|\n",
            "| 31|  technician|  single| tertiary|     no|    703|    yes|  no|unknown|  8|  may|     943|       2|   -1|       0| unknown|    yes|\n",
            "| 35|  management|divorced| tertiary|     no|   3837|    yes|  no|unknown|  8|  may|    1084|       1|   -1|       0| unknown|    yes|\n",
            "| 32| blue-collar|  single|  primary|     no|    611|    yes|  no|unknown|  8|  may|     541|       3|   -1|       0| unknown|    yes|\n",
            "| 49|    services| married|secondary|     no|     -8|    yes|  no|unknown|  8|  may|    1119|       1|   -1|       0| unknown|    yes|\n",
            "| 41|      admin.| married|secondary|     no|     55|    yes|  no|unknown|  8|  may|    1120|       2|   -1|       0| unknown|    yes|\n",
            "| 49|      admin.|divorced|secondary|     no|    168|    yes| yes|unknown|  8|  may|     513|       1|   -1|       0| unknown|    yes|\n",
            "| 28|      admin.|divorced|secondary|     no|    785|    yes|  no|unknown|  8|  may|     442|       2|   -1|       0| unknown|    yes|\n",
            "| 43|  management|  single| tertiary|     no|   2067|    yes|  no|unknown|  8|  may|     756|       1|   -1|       0| unknown|    yes|\n",
            "| 43|  management|divorced| tertiary|     no|    388|    yes|  no|unknown|  8|  may|    2087|       2|   -1|       0| unknown|    yes|\n",
            "| 43| blue-collar| married|  primary|     no|   -192|    yes|  no|unknown|  8|  may|    1120|       2|   -1|       0| unknown|    yes|\n",
            "| 37|  unemployed|  single|secondary|     no|    381|    yes|  no|unknown|  8|  may|     985|       2|   -1|       0| unknown|    yes|\n",
            "| 35| blue-collar|  single|secondary|     no|     40|    yes|  no|unknown|  9|  may|     617|       4|   -1|       0| unknown|    yes|\n",
            "| 31|  technician|  single| tertiary|     no|     22|    yes|  no|unknown|  9|  may|     483|       3|   -1|       0| unknown|    yes|\n",
            "| 43| blue-collar|  single|secondary|     no|      3|    yes|  no|unknown|  9|  may|     929|       3|   -1|       0| unknown|    yes|\n",
            "| 31|      admin.| married|secondary|     no|    307|    yes|  no|unknown|  9|  may|     538|       1|   -1|       0| unknown|    yes|\n",
            "| 28| blue-collar|  single|secondary|     no|    759|    yes|  no|unknown|  9|  may|     710|       1|   -1|       0| unknown|    yes|\n",
            "| 32| blue-collar| married|secondary|    yes|     -1|    yes|  no|unknown|  9|  may|     653|       1|   -1|       0| unknown|    yes|\n",
            "| 60|  technician| married|  primary|     no|     65|    yes|  no|unknown|  9|  may|    1028|       2|   -1|       0| unknown|    yes|\n",
            "| 26| blue-collar|  single|secondary|     no|     82|    yes|  no|unknown|  9|  may|     654|       1|   -1|       0| unknown|    yes|\n",
            "| 40| blue-collar| married|secondary|     no|     10|    yes|  no|unknown|  9|  may|    1692|       2|   -1|       0| unknown|    yes|\n",
            "| 33| blue-collar|divorced|  primary|     no|    390|    yes|  no|unknown|  9|  may|     665|       2|   -1|       0| unknown|    yes|\n",
            "| 32|  management|  single| tertiary|     no|    311|     no|  no|unknown| 12|  may|     757|       2|   -1|       0| unknown|    yes|\n",
            "| 35| blue-collar| married|  primary|     no|    414|     no|  no|unknown| 13|  may|     504|       4|   -1|       0| unknown|    yes|\n",
            "| 33|  management|divorced|secondary|     no|      5|    yes|  no|unknown| 13|  may|    1346|       1|   -1|       0| unknown|    yes|\n",
            "| 38|  management| married| tertiary|     no|    119|    yes|  no|unknown| 13|  may|     568|       4|   -1|       0| unknown|    yes|\n",
            "| 23|entrepreneur|  single|  primary|     no|      4|    yes|  no|unknown| 13|  may|     395|       2|   -1|       0| unknown|    yes|\n",
            "| 60| blue-collar| married|  primary|     no|   1262|    yes| yes|unknown| 13|  may|    1015|       1|   -1|       0| unknown|    yes|\n",
            "| 48|  management| married| tertiary|     no|   1949|    yes|  no|unknown| 13|  may|     683|       2|   -1|       0| unknown|    yes|\n",
            "| 45|entrepreneur|divorced| tertiary|     no|   -395|    yes|  no|unknown| 13|  may|     470|       1|   -1|       0| unknown|    yes|\n",
            "| 36| blue-collar| married|secondary|     no|   1165|    yes|  no|unknown| 13|  may|    1001|       4|   -1|       0| unknown|    yes|\n",
            "| 52|  management| married|  unknown|     no|   2240|    yes|  no|unknown| 13|  may|     845|       1|   -1|       0| unknown|    yes|\n",
            "| 35| blue-collar|divorced|  primary|     no|    300|    yes|  no|unknown| 13|  may|     945|       2|   -1|       0| unknown|    yes|\n",
            "| 43|  technician| married|secondary|     no|   3285|    yes|  no|unknown| 13|  may|    1721|       2|   -1|       0| unknown|    yes|\n",
            "| 52|   housemaid| married|secondary|     no|   3923|    yes|  no|unknown| 14|  may|     942|       3|   -1|       0| unknown|    yes|\n",
            "| 53|  technician|divorced|  primary|     no|   1443|    yes|  no|unknown| 14|  may|     476|       1|   -1|       0| unknown|    yes|\n",
            "| 48| blue-collar|divorced|  primary|     no|     24|    yes|  no|unknown| 14|  may|     832|       1|   -1|       0| unknown|    yes|\n",
            "+---+------------+--------+---------+-------+-------+-------+----+-------+---+-----+--------+--------+-----+--------+--------+-------+\n",
            "only showing top 50 rows\n",
            "\n",
            "root\n",
            " |-- age: integer (nullable = true)\n",
            " |-- job: string (nullable = true)\n",
            " |-- marital: string (nullable = true)\n",
            " |-- education: string (nullable = true)\n",
            " |-- default: string (nullable = true)\n",
            " |-- balance: integer (nullable = true)\n",
            " |-- housing: string (nullable = true)\n",
            " |-- loan: string (nullable = true)\n",
            " |-- contact: string (nullable = true)\n",
            " |-- day: integer (nullable = true)\n",
            " |-- month: string (nullable = true)\n",
            " |-- duration: integer (nullable = true)\n",
            " |-- campaign: integer (nullable = true)\n",
            " |-- pdays: integer (nullable = true)\n",
            " |-- previous: integer (nullable = true)\n",
            " |-- poutcome: string (nullable = true)\n",
            " |-- deposit: string (nullable = true)\n",
            "\n",
            "+-------+------------------+-------+--------+---------+-------+------------------+-------+-----+--------+------------------+-----+------------------+------------------+------------------+------------------+--------+-------+\n",
            "|summary|               age|    job| marital|education|default|           balance|housing| loan| contact|               day|month|          duration|          campaign|             pdays|          previous|poutcome|deposit|\n",
            "+-------+------------------+-------+--------+---------+-------+------------------+-------+-----+--------+------------------+-----+------------------+------------------+------------------+------------------+--------+-------+\n",
            "|  count|             11162|  11162|   11162|    11162|  11162|             11162|  11162|11162|   11162|             11162|11162|             11162|             11162|             11162|             11162|   11162|  11162|\n",
            "|   mean|41.231947679627304|   NULL|    NULL|     NULL|   NULL|1528.5385235620856|   NULL| NULL|    NULL|15.658036194230425| NULL|371.99381831213043| 2.508421429851281| 51.33040673714388|0.8325568894463358|    NULL|   NULL|\n",
            "| stddev|11.913369192215518|   NULL|    NULL|     NULL|   NULL| 3225.413325946149|   NULL| NULL|    NULL| 8.420739541006462| NULL|347.12838571630687|2.7220771816614824|108.75828197197717| 2.292007218670508|    NULL|   NULL|\n",
            "|    min|                18| admin.|divorced|  primary|     no|             -6847|     no|   no|cellular|                 1|  apr|                 2|                 1|                -1|                 0| failure|     no|\n",
            "|    25%|                32|   NULL|    NULL|     NULL|   NULL|               122|   NULL| NULL|    NULL|                 8| NULL|               138|                 1|                -1|                 0|    NULL|   NULL|\n",
            "|    50%|                39|   NULL|    NULL|     NULL|   NULL|               550|   NULL| NULL|    NULL|                15| NULL|               255|                 2|                -1|                 0|    NULL|   NULL|\n",
            "|    75%|                49|   NULL|    NULL|     NULL|   NULL|              1708|   NULL| NULL|    NULL|                22| NULL|               496|                 3|                20|                 1|    NULL|   NULL|\n",
            "|    max|                95|unknown|  single|  unknown|    yes|             81204|    yes|  yes| unknown|                31|  sep|              3881|                63|               854|                58| unknown|    yes|\n",
            "+-------+------------------+-------+--------+---------+-------+------------------+-------+-----+--------+------------------+-----+------------------+------------------+------------------+------------------+--------+-------+\n",
            "\n"
          ]
        }
      ],
      "source": [
        "from pyspark.sql import SparkSession\n",
        "from pyspark.sql.functions import col, count, when\n",
        "\n",
        "spark = SparkSession.builder.appName(\"BankMarketing\").getOrCreate()\n",
        "df = spark.read.csv(\"bank.csv\", header=True, inferSchema=True)\n",
        "df.show(50)\n",
        "\n",
        "df.printSchema()\n",
        "\n",
        "df.summary().show()"
      ]
    },
    {
      "cell_type": "code",
      "source": [
        "# Contando o número total de registros\n",
        "total_count = df.count()\n",
        "\n",
        "# Contando o número de registros distintos\n",
        "distinct_count = df.distinct().count()\n",
        "\n",
        "# Verificando se há duplicatas\n",
        "if total_count > distinct_count:\n",
        "    print(\"Existem dados duplicados no DataFrame.\")\n",
        "else:\n",
        "    print(\"Não existem dados duplicados no DataFrame.\")"
      ],
      "metadata": {
        "colab": {
          "base_uri": "https://localhost:8080/"
        },
        "id": "CuYdj41y_xMB",
        "outputId": "203a3598-602a-4717-82ee-9e210238179b"
      },
      "execution_count": 3,
      "outputs": [
        {
          "output_type": "stream",
          "name": "stdout",
          "text": [
            "Não existem dados duplicados no DataFrame.\n"
          ]
        }
      ]
    },
    {
      "cell_type": "code",
      "source": [],
      "metadata": {
        "id": "JB7oY6SW_yoW"
      },
      "execution_count": 3,
      "outputs": []
    }
  ]
}